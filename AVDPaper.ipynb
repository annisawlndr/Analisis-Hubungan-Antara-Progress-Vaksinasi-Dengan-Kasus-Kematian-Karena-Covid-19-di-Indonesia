{
  "cells": [
    {
      "cell_type": "code",
      "execution_count": 1,
      "metadata": {
        "id": "tsh6fL0mFPFy"
      },
      "outputs": [],
      "source": [
        "from sklearn import linear_model\n",
        "import pandas as pd\n",
        "import matplotlib.pyplot as plt\n",
        "import pylab as pl\n",
        "import numpy as np\n",
        "%matplotlib inline"
      ]
    },
    {
      "cell_type": "code",
      "execution_count": 2,
      "metadata": {
        "colab": {
          "base_uri": "https://localhost:8080/",
          "height": 143
        },
        "id": "SWzwvLiRGSxG",
        "outputId": "8ce80a13-df10-487e-b4b8-3a6ce484c88c"
      },
      "outputs": [
        {
          "output_type": "execute_result",
          "data": {
            "text/html": [
              "<div>\n",
              "<style scoped>\n",
              "    .dataframe tbody tr th:only-of-type {\n",
              "        vertical-align: middle;\n",
              "    }\n",
              "\n",
              "    .dataframe tbody tr th {\n",
              "        vertical-align: top;\n",
              "    }\n",
              "\n",
              "    .dataframe thead th {\n",
              "        text-align: right;\n",
              "    }\n",
              "</style>\n",
              "<table border=\"1\" class=\"dataframe\">\n",
              "  <thead>\n",
              "    <tr style=\"text-align: right;\">\n",
              "      <th></th>\n",
              "      <th>country</th>\n",
              "      <th>people_fully_vaccinated</th>\n",
              "    </tr>\n",
              "  </thead>\n",
              "  <tbody>\n",
              "    <tr>\n",
              "      <th>0</th>\n",
              "      <td>Afghanistan</td>\n",
              "      <td>NaN</td>\n",
              "    </tr>\n",
              "    <tr>\n",
              "      <th>1</th>\n",
              "      <td>Afghanistan</td>\n",
              "      <td>NaN</td>\n",
              "    </tr>\n",
              "    <tr>\n",
              "      <th>2</th>\n",
              "      <td>Afghanistan</td>\n",
              "      <td>NaN</td>\n",
              "    </tr>\n",
              "  </tbody>\n",
              "</table>\n",
              "</div>"
            ],
            "text/plain": [
              "       country  people_fully_vaccinated\n",
              "0  Afghanistan                      NaN\n",
              "1  Afghanistan                      NaN\n",
              "2  Afghanistan                      NaN"
            ]
          },
          "metadata": {},
          "execution_count": 2
        }
      ],
      "source": [
        "vaccine_source = pd.read_csv(\"/content/country_vaccinations.csv\")\n",
        "vaccine_source[:3][['country','people_fully_vaccinated']]"
      ]
    },
    {
      "cell_type": "code",
      "execution_count": 3,
      "metadata": {
        "colab": {
          "base_uri": "https://localhost:8080/",
          "height": 143
        },
        "id": "BUl5bn7FJSsC",
        "outputId": "880479c3-a60e-4319-8f1f-368ba3207b01"
      },
      "outputs": [
        {
          "output_type": "execute_result",
          "data": {
            "text/html": [
              "<div>\n",
              "<style scoped>\n",
              "    .dataframe tbody tr th:only-of-type {\n",
              "        vertical-align: middle;\n",
              "    }\n",
              "\n",
              "    .dataframe tbody tr th {\n",
              "        vertical-align: top;\n",
              "    }\n",
              "\n",
              "    .dataframe thead th {\n",
              "        text-align: right;\n",
              "    }\n",
              "</style>\n",
              "<table border=\"1\" class=\"dataframe\">\n",
              "  <thead>\n",
              "    <tr style=\"text-align: right;\">\n",
              "      <th></th>\n",
              "      <th>country</th>\n",
              "      <th>population</th>\n",
              "    </tr>\n",
              "  </thead>\n",
              "  <tbody>\n",
              "    <tr>\n",
              "      <th>0</th>\n",
              "      <td>China</td>\n",
              "      <td>1,446,285,369</td>\n",
              "    </tr>\n",
              "    <tr>\n",
              "      <th>1</th>\n",
              "      <td>India</td>\n",
              "      <td>1,399,147,562</td>\n",
              "    </tr>\n",
              "    <tr>\n",
              "      <th>2</th>\n",
              "      <td>United States</td>\n",
              "      <td>333,745,439</td>\n",
              "    </tr>\n",
              "  </tbody>\n",
              "</table>\n",
              "</div>"
            ],
            "text/plain": [
              "         country     population\n",
              "0          China  1,446,285,369\n",
              "1          India  1,399,147,562\n",
              "2  United States    333,745,439"
            ]
          },
          "metadata": {},
          "execution_count": 3
        }
      ],
      "source": [
        "population_source = pd.read_csv(\"/content/2021_population.csv\")\n",
        "population_source = population_source.rename(columns={'2021_last_updated': 'population'})\n",
        "population_source.head(5)\n",
        "population_source[:3][['country', 'population']]"
      ]
    },
    {
      "cell_type": "code",
      "execution_count": 5,
      "metadata": {
        "colab": {
          "base_uri": "https://localhost:8080/",
          "height": 112
        },
        "id": "A4t2bvcgLDHA",
        "outputId": "9546bd33-4106-4521-a0dd-6ee897cdec68"
      },
      "outputs": [
        {
          "output_type": "execute_result",
          "data": {
            "text/html": [
              "<div>\n",
              "<style scoped>\n",
              "    .dataframe tbody tr th:only-of-type {\n",
              "        vertical-align: middle;\n",
              "    }\n",
              "\n",
              "    .dataframe tbody tr th {\n",
              "        vertical-align: top;\n",
              "    }\n",
              "\n",
              "    .dataframe thead th {\n",
              "        text-align: right;\n",
              "    }\n",
              "</style>\n",
              "<table border=\"1\" class=\"dataframe\">\n",
              "  <thead>\n",
              "    <tr style=\"text-align: right;\">\n",
              "      <th></th>\n",
              "      <th>date</th>\n",
              "      <th>Country_code</th>\n",
              "      <th>country</th>\n",
              "      <th>WHO_region</th>\n",
              "      <th>New_cases</th>\n",
              "      <th>Cumulative_cases</th>\n",
              "      <th>New_deaths</th>\n",
              "      <th>Cumulative_deaths</th>\n",
              "    </tr>\n",
              "  </thead>\n",
              "  <tbody>\n",
              "    <tr>\n",
              "      <th>0</th>\n",
              "      <td>2020-01-03</td>\n",
              "      <td>AF</td>\n",
              "      <td>Afghanistan</td>\n",
              "      <td>EMRO</td>\n",
              "      <td>0</td>\n",
              "      <td>0</td>\n",
              "      <td>0</td>\n",
              "      <td>0</td>\n",
              "    </tr>\n",
              "    <tr>\n",
              "      <th>1</th>\n",
              "      <td>2020-01-04</td>\n",
              "      <td>AF</td>\n",
              "      <td>Afghanistan</td>\n",
              "      <td>EMRO</td>\n",
              "      <td>0</td>\n",
              "      <td>0</td>\n",
              "      <td>0</td>\n",
              "      <td>0</td>\n",
              "    </tr>\n",
              "  </tbody>\n",
              "</table>\n",
              "</div>"
            ],
            "text/plain": [
              "         date Country_code  ... New_deaths Cumulative_deaths\n",
              "0  2020-01-03           AF  ...          0                 0\n",
              "1  2020-01-04           AF  ...          0                 0\n",
              "\n",
              "[2 rows x 8 columns]"
            ]
          },
          "metadata": {},
          "execution_count": 5
        }
      ],
      "source": [
        "who_source = pd.read_csv(\"/content/WHO-COVID-19-global-data.csv\")\n",
        "who_source = who_source.rename(columns={\"Country\":\"country\", \"Date_reported\":\"date\" })\n",
        "who_source.head(2)\n"
      ]
    },
    {
      "cell_type": "code",
      "execution_count": 6,
      "metadata": {
        "colab": {
          "base_uri": "https://localhost:8080/"
        },
        "id": "KsXMlywIKhiy",
        "outputId": "09258dbc-78d0-4b5d-ae37-e2b5c2132c11"
      },
      "outputs": [
        {
          "output_type": "execute_result",
          "data": {
            "text/plain": [
              "{'Antigua and Barbuda',\n",
              " 'Bolivia (Plurinational State of)',\n",
              " 'Bonaire',\n",
              " 'Bosnia and Herzegovina',\n",
              " 'British Virgin Islands',\n",
              " 'Brunei Darussalam',\n",
              " 'Cabo Verde',\n",
              " 'Congo',\n",
              " 'Curaçao',\n",
              " 'Czechia',\n",
              " 'Côte d’Ivoire',\n",
              " \"Democratic People's Republic of Korea\",\n",
              " 'Democratic Republic of the Congo',\n",
              " 'Eswatini',\n",
              " 'Falkland Islands (Malvinas)',\n",
              " 'French Guiana',\n",
              " 'Guadeloupe',\n",
              " 'Guernsey',\n",
              " 'Guinea-Bissau',\n",
              " 'Holy See',\n",
              " 'Iran (Islamic Republic of)',\n",
              " 'Isle of Man',\n",
              " 'Jersey',\n",
              " 'Kosovo[1]',\n",
              " \"Lao People's Democratic Republic\",\n",
              " 'Micronesia (Federated States of)',\n",
              " 'Northern Mariana Islands (Commonwealth of the)',\n",
              " 'Other',\n",
              " 'Pitcairn Islands',\n",
              " 'Republic of Korea',\n",
              " 'Republic of Moldova',\n",
              " 'Russian Federation',\n",
              " 'Réunion',\n",
              " 'Saba',\n",
              " 'Saint Barthélemy',\n",
              " 'Saint Helena',\n",
              " 'Saint Kitts and Nevis',\n",
              " 'Saint Pierre and Miquelon',\n",
              " 'Saint Vincent and the Grenadines',\n",
              " 'Sao Tome and Principe',\n",
              " 'Sint Eustatius',\n",
              " 'Syrian Arab Republic',\n",
              " 'The United Kingdom',\n",
              " 'Timor-Leste',\n",
              " 'Trinidad and Tobago',\n",
              " 'Turks and Caicos Islands',\n",
              " 'United Republic of Tanzania',\n",
              " 'United States of America',\n",
              " 'Venezuela (Bolivarian Republic of)',\n",
              " 'Viet Nam',\n",
              " 'Wallis and Futuna',\n",
              " 'occupied Palestinian territory, including east Jerusalem'}"
            ]
          },
          "metadata": {},
          "execution_count": 6
        }
      ],
      "source": [
        "set(who_source.country) - set(population_source.country)"
      ]
    },
    {
      "cell_type": "code",
      "execution_count": 7,
      "metadata": {
        "id": "GSfwxCTELK9f"
      },
      "outputs": [],
      "source": [
        "toedit = {\"Antigua And Barbuda\": 'Antigua and Barbuda',\n",
        " \"Bolivia\": 'Bolivia (Plurinational State of)',\n",
        " \"Bosnia And Herzegovina\": 'Bosnia and Herzegovina',\n",
        " \"Brunei\": 'Brunei Darussalam',\n",
        " \"Cape Verde\": 'Cabo Verde',\n",
        " \"Curacao\": 'Curaçao',\n",
        " \"North Korea\": \"Democratic People's Republic of Korea\",\n",
        " \"Republic Of The Congo\": 'Democratic Republic of the Congo',\n",
        " \"Falkland Islands\": 'Falkland Islands (Malvinas)',\n",
        " \"Guinea Bissau\": 'Guinea-Bissau',\n",
        " \"Iran\": 'Iran (Islamic Republic of)',\n",
        " \"Isle Of Man\": 'Isle of Man',\n",
        " \"Laos\": \"Lao People's Democratic Republic\",\n",
        " \"Micronesia\": 'Micronesia (Federated States of)',\n",
        " \"Northern Mariana Islands\": 'Northern Mariana Islands (Commonwealth of the)',\n",
        " \"South Korea\": 'Republic of Korea',\n",
        " \"Moldova\": 'Republic of Moldova',\n",
        " \"Russia\": 'Russian Federation',\n",
        " \"Reunion\": 'Réunion',\n",
        " \"Saint Kitts And Nevis\": 'Saint Kitts and Nevis',\n",
        " \"Saint Pierre And Miquelon\": 'Saint Pierre and Miquelon',\n",
        " \"Saint Vincent And The Grenadines\": 'Saint Vincent and the Grenadines',\n",
        " \"Sao Tome And Principe\": 'Sao Tome and Principe',\n",
        " \"Syria\": 'Syrian Arab Republic',\n",
        " \"United Kingdom\": 'The United Kingdom',\n",
        " \"Timor Leste\": 'Timor-Leste',\n",
        " \"Trinidad And Tobago\": 'Trinidad and Tobago',\n",
        " \"Turks And Caicos Islands\": 'Turks and Caicos Islands',\n",
        " \"Tanzania\": 'United Republic of Tanzania',\n",
        " \"United States\": 'United States of America',\n",
        " \"Venezuela\": 'Venezuela (Bolivarian Republic of)',\n",
        " \"Vietnam\": 'Viet Nam',\n",
        " \"Wallis And Futuna\": 'Wallis and Futuna',\n",
        " \"Palestine\": 'occupied Palestinian territory, including east Jerusalem'}\n",
        "population_source[\"country\"] = population_source[\"country\"].replace(toedit)\n",
        "vaccine_source[\"country\"] = vaccine_source[\"country\"].replace(toedit)"
      ]
    },
    {
      "cell_type": "code",
      "execution_count": 8,
      "metadata": {
        "id": "WWKFHpKiYnhh"
      },
      "outputs": [],
      "source": [
        "who = who_source[[\"date\", \"country\",\"New_deaths\", 'New_cases']]\n",
        "population = population_source[[\"iso_code\",\"country\", \"population\"]]\n",
        "vaccine = vaccine_source[[\"country\",\"iso_code\",\"date\",\"total_vaccinations\",\"people_vaccinated\",\"people_fully_vaccinated\"]]\n",
        "#Menghapus data dengan nilai NaN\n",
        "vaccine = vaccine.dropna().reset_index(drop=True)"
      ]
    },
    {
      "cell_type": "code",
      "execution_count": 9,
      "metadata": {
        "colab": {
          "base_uri": "https://localhost:8080/",
          "height": 206
        },
        "id": "xuPgZ7Xcp9N0",
        "outputId": "d606025e-4e5f-4e68-d95e-6cc713fc50a6"
      },
      "outputs": [
        {
          "output_type": "execute_result",
          "data": {
            "text/html": [
              "<div>\n",
              "<style scoped>\n",
              "    .dataframe tbody tr th:only-of-type {\n",
              "        vertical-align: middle;\n",
              "    }\n",
              "\n",
              "    .dataframe tbody tr th {\n",
              "        vertical-align: top;\n",
              "    }\n",
              "\n",
              "    .dataframe thead th {\n",
              "        text-align: right;\n",
              "    }\n",
              "</style>\n",
              "<table border=\"1\" class=\"dataframe\">\n",
              "  <thead>\n",
              "    <tr style=\"text-align: right;\">\n",
              "      <th></th>\n",
              "      <th>country</th>\n",
              "      <th>iso_code</th>\n",
              "      <th>date</th>\n",
              "      <th>total_vaccinations</th>\n",
              "      <th>people_vaccinated</th>\n",
              "      <th>people_fully_vaccinated</th>\n",
              "    </tr>\n",
              "  </thead>\n",
              "  <tbody>\n",
              "    <tr>\n",
              "      <th>0</th>\n",
              "      <td>Afghanistan</td>\n",
              "      <td>AFG</td>\n",
              "      <td>2021-05-11</td>\n",
              "      <td>504502.0</td>\n",
              "      <td>448878.0</td>\n",
              "      <td>55624.0</td>\n",
              "    </tr>\n",
              "    <tr>\n",
              "      <th>1</th>\n",
              "      <td>Afghanistan</td>\n",
              "      <td>AFG</td>\n",
              "      <td>2021-05-20</td>\n",
              "      <td>547901.0</td>\n",
              "      <td>470341.0</td>\n",
              "      <td>77560.0</td>\n",
              "    </tr>\n",
              "    <tr>\n",
              "      <th>2</th>\n",
              "      <td>Afghanistan</td>\n",
              "      <td>AFG</td>\n",
              "      <td>2021-05-24</td>\n",
              "      <td>573277.0</td>\n",
              "      <td>476367.0</td>\n",
              "      <td>96910.0</td>\n",
              "    </tr>\n",
              "    <tr>\n",
              "      <th>3</th>\n",
              "      <td>Afghanistan</td>\n",
              "      <td>AFG</td>\n",
              "      <td>2021-05-26</td>\n",
              "      <td>590454.0</td>\n",
              "      <td>479372.0</td>\n",
              "      <td>111082.0</td>\n",
              "    </tr>\n",
              "    <tr>\n",
              "      <th>4</th>\n",
              "      <td>Afghanistan</td>\n",
              "      <td>AFG</td>\n",
              "      <td>2021-05-27</td>\n",
              "      <td>593313.0</td>\n",
              "      <td>479574.0</td>\n",
              "      <td>113739.0</td>\n",
              "    </tr>\n",
              "  </tbody>\n",
              "</table>\n",
              "</div>"
            ],
            "text/plain": [
              "       country iso_code  ... people_vaccinated  people_fully_vaccinated\n",
              "0  Afghanistan      AFG  ...          448878.0                  55624.0\n",
              "1  Afghanistan      AFG  ...          470341.0                  77560.0\n",
              "2  Afghanistan      AFG  ...          476367.0                  96910.0\n",
              "3  Afghanistan      AFG  ...          479372.0                 111082.0\n",
              "4  Afghanistan      AFG  ...          479574.0                 113739.0\n",
              "\n",
              "[5 rows x 6 columns]"
            ]
          },
          "metadata": {},
          "execution_count": 9
        }
      ],
      "source": [
        "vaccine.head(5)"
      ]
    },
    {
      "cell_type": "code",
      "execution_count": 10,
      "metadata": {
        "colab": {
          "base_uri": "https://localhost:8080/",
          "height": 112
        },
        "id": "JCgQW79lZpeX",
        "outputId": "41225c42-d2c6-4394-fa92-81ebd4995080"
      },
      "outputs": [
        {
          "output_type": "execute_result",
          "data": {
            "text/html": [
              "<div>\n",
              "<style scoped>\n",
              "    .dataframe tbody tr th:only-of-type {\n",
              "        vertical-align: middle;\n",
              "    }\n",
              "\n",
              "    .dataframe tbody tr th {\n",
              "        vertical-align: top;\n",
              "    }\n",
              "\n",
              "    .dataframe thead th {\n",
              "        text-align: right;\n",
              "    }\n",
              "</style>\n",
              "<table border=\"1\" class=\"dataframe\">\n",
              "  <thead>\n",
              "    <tr style=\"text-align: right;\">\n",
              "      <th></th>\n",
              "      <th>date</th>\n",
              "      <th>country</th>\n",
              "      <th>New_deaths</th>\n",
              "      <th>New_cases</th>\n",
              "      <th>iso_code</th>\n",
              "      <th>population</th>\n",
              "    </tr>\n",
              "  </thead>\n",
              "  <tbody>\n",
              "    <tr>\n",
              "      <th>0</th>\n",
              "      <td>2020-01-03</td>\n",
              "      <td>Afghanistan</td>\n",
              "      <td>0</td>\n",
              "      <td>0</td>\n",
              "      <td>AFG</td>\n",
              "      <td>40,227,054</td>\n",
              "    </tr>\n",
              "    <tr>\n",
              "      <th>1</th>\n",
              "      <td>2020-01-04</td>\n",
              "      <td>Afghanistan</td>\n",
              "      <td>0</td>\n",
              "      <td>0</td>\n",
              "      <td>AFG</td>\n",
              "      <td>40,227,054</td>\n",
              "    </tr>\n",
              "  </tbody>\n",
              "</table>\n",
              "</div>"
            ],
            "text/plain": [
              "         date      country  New_deaths  New_cases iso_code  population\n",
              "0  2020-01-03  Afghanistan           0          0      AFG  40,227,054\n",
              "1  2020-01-04  Afghanistan           0          0      AFG  40,227,054"
            ]
          },
          "metadata": {},
          "execution_count": 10
        }
      ],
      "source": [
        "who_population_merge = pd.merge(who, population)\n",
        "who_population_merge.head(2)"
      ]
    },
    {
      "cell_type": "code",
      "execution_count": 11,
      "metadata": {
        "colab": {
          "base_uri": "https://localhost:8080/",
          "height": 206
        },
        "id": "vh_IS81xZsze",
        "outputId": "2ac1d47b-bdbe-4c06-86e0-425e8a2e16c5"
      },
      "outputs": [
        {
          "output_type": "execute_result",
          "data": {
            "text/html": [
              "<div>\n",
              "<style scoped>\n",
              "    .dataframe tbody tr th:only-of-type {\n",
              "        vertical-align: middle;\n",
              "    }\n",
              "\n",
              "    .dataframe tbody tr th {\n",
              "        vertical-align: top;\n",
              "    }\n",
              "\n",
              "    .dataframe thead th {\n",
              "        text-align: right;\n",
              "    }\n",
              "</style>\n",
              "<table border=\"1\" class=\"dataframe\">\n",
              "  <thead>\n",
              "    <tr style=\"text-align: right;\">\n",
              "      <th></th>\n",
              "      <th>country</th>\n",
              "      <th>iso_code</th>\n",
              "      <th>date</th>\n",
              "      <th>total_vaccinations</th>\n",
              "      <th>people_vaccinated</th>\n",
              "      <th>people_fully_vaccinated</th>\n",
              "      <th>New_deaths</th>\n",
              "      <th>New_cases</th>\n",
              "      <th>population</th>\n",
              "    </tr>\n",
              "  </thead>\n",
              "  <tbody>\n",
              "    <tr>\n",
              "      <th>0</th>\n",
              "      <td>Afghanistan</td>\n",
              "      <td>AFG</td>\n",
              "      <td>2021-05-11</td>\n",
              "      <td>504502.0</td>\n",
              "      <td>448878.0</td>\n",
              "      <td>55624.0</td>\n",
              "      <td>12</td>\n",
              "      <td>340</td>\n",
              "      <td>40,227,054</td>\n",
              "    </tr>\n",
              "    <tr>\n",
              "      <th>1</th>\n",
              "      <td>Afghanistan</td>\n",
              "      <td>AFG</td>\n",
              "      <td>2021-05-20</td>\n",
              "      <td>547901.0</td>\n",
              "      <td>470341.0</td>\n",
              "      <td>77560.0</td>\n",
              "      <td>10</td>\n",
              "      <td>453</td>\n",
              "      <td>40,227,054</td>\n",
              "    </tr>\n",
              "    <tr>\n",
              "      <th>2</th>\n",
              "      <td>Afghanistan</td>\n",
              "      <td>AFG</td>\n",
              "      <td>2021-05-24</td>\n",
              "      <td>573277.0</td>\n",
              "      <td>476367.0</td>\n",
              "      <td>96910.0</td>\n",
              "      <td>10</td>\n",
              "      <td>547</td>\n",
              "      <td>40,227,054</td>\n",
              "    </tr>\n",
              "    <tr>\n",
              "      <th>3</th>\n",
              "      <td>Afghanistan</td>\n",
              "      <td>AFG</td>\n",
              "      <td>2021-05-26</td>\n",
              "      <td>590454.0</td>\n",
              "      <td>479372.0</td>\n",
              "      <td>111082.0</td>\n",
              "      <td>19</td>\n",
              "      <td>840</td>\n",
              "      <td>40,227,054</td>\n",
              "    </tr>\n",
              "    <tr>\n",
              "      <th>4</th>\n",
              "      <td>Afghanistan</td>\n",
              "      <td>AFG</td>\n",
              "      <td>2021-05-27</td>\n",
              "      <td>593313.0</td>\n",
              "      <td>479574.0</td>\n",
              "      <td>113739.0</td>\n",
              "      <td>14</td>\n",
              "      <td>623</td>\n",
              "      <td>40,227,054</td>\n",
              "    </tr>\n",
              "  </tbody>\n",
              "</table>\n",
              "</div>"
            ],
            "text/plain": [
              "       country iso_code        date  ...  New_deaths  New_cases  population\n",
              "0  Afghanistan      AFG  2021-05-11  ...          12        340  40,227,054\n",
              "1  Afghanistan      AFG  2021-05-20  ...          10        453  40,227,054\n",
              "2  Afghanistan      AFG  2021-05-24  ...          10        547  40,227,054\n",
              "3  Afghanistan      AFG  2021-05-26  ...          19        840  40,227,054\n",
              "4  Afghanistan      AFG  2021-05-27  ...          14        623  40,227,054\n",
              "\n",
              "[5 rows x 9 columns]"
            ]
          },
          "metadata": {},
          "execution_count": 11
        }
      ],
      "source": [
        "df = pd.merge(vaccine,who_population_merge).reset_index(drop=True)\n",
        "df.head(5)"
      ]
    },
    {
      "cell_type": "code",
      "execution_count": 12,
      "metadata": {
        "colab": {
          "base_uri": "https://localhost:8080/"
        },
        "id": "cAYgbjnEZw_w",
        "outputId": "934f9782-bd5b-41c8-8304-ff9ed00b4021"
      },
      "outputs": [
        {
          "output_type": "execute_result",
          "data": {
            "text/plain": [
              "array(['Afghanistan', 'Albania', 'Algeria', 'Andorra', 'Angola',\n",
              "       'Anguilla', 'Antigua and Barbuda', 'Argentina', 'Armenia', 'Aruba',\n",
              "       'Australia', 'Austria', 'Azerbaijan', 'Bahamas', 'Bahrain',\n",
              "       'Bangladesh', 'Barbados', 'Belarus', 'Belgium', 'Belize', 'Benin',\n",
              "       'Bermuda', 'Bhutan', 'Bolivia (Plurinational State of)',\n",
              "       'Bosnia and Herzegovina', 'Botswana', 'Brazil',\n",
              "       'Brunei Darussalam', 'Bulgaria', 'Burkina Faso', 'Burundi',\n",
              "       'Cambodia', 'Cameroon', 'Canada', 'Cabo Verde', 'Cayman Islands',\n",
              "       'Central African Republic', 'Chad', 'Chile', 'China', 'Colombia',\n",
              "       'Comoros', 'Cook Islands', 'Costa Rica', 'Croatia', 'Cuba',\n",
              "       'Curaçao', 'Cyprus', 'Denmark', 'Djibouti', 'Dominica',\n",
              "       'Dominican Republic', 'Ecuador', 'Egypt', 'El Salvador',\n",
              "       'Equatorial Guinea', 'Estonia', 'Ethiopia',\n",
              "       'Falkland Islands (Malvinas)', 'Fiji', 'Finland', 'France',\n",
              "       'French Polynesia', 'Gabon', 'Gambia', 'Georgia', 'Germany',\n",
              "       'Ghana', 'Gibraltar', 'Greece', 'Greenland', 'Grenada',\n",
              "       'Guatemala', 'Guinea', 'Guinea-Bissau', 'Guyana', 'Haiti',\n",
              "       'Honduras', 'Hungary', 'Iceland', 'India', 'Indonesia',\n",
              "       'Iran (Islamic Republic of)', 'Iraq', 'Ireland', 'Israel', 'Italy',\n",
              "       'Jamaica', 'Japan', 'Jordan', 'Kazakhstan', 'Kenya', 'Kiribati',\n",
              "       'Kuwait', 'Kyrgyzstan', \"Lao People's Democratic Republic\",\n",
              "       'Latvia', 'Lebanon', 'Lesotho', 'Liberia', 'Libya',\n",
              "       'Liechtenstein', 'Lithuania', 'Luxembourg', 'Madagascar', 'Malawi',\n",
              "       'Malaysia', 'Maldives', 'Mali', 'Malta', 'Mauritania', 'Mauritius',\n",
              "       'Mexico', 'Republic of Moldova', 'Monaco', 'Mongolia',\n",
              "       'Montenegro', 'Montserrat', 'Morocco', 'Mozambique', 'Myanmar',\n",
              "       'Namibia', 'Nauru', 'Nepal', 'Netherlands', 'New Caledonia',\n",
              "       'New Zealand', 'Nicaragua', 'Niger', 'Nigeria', 'Niue',\n",
              "       'North Macedonia', 'Norway', 'Oman', 'Pakistan',\n",
              "       'occupied Palestinian territory, including east Jerusalem',\n",
              "       'Panama', 'Papua New Guinea', 'Paraguay', 'Peru', 'Philippines',\n",
              "       'Poland', 'Portugal', 'Qatar', 'Romania', 'Russian Federation',\n",
              "       'Rwanda', 'Saint Kitts and Nevis', 'Saint Lucia', 'Samoa',\n",
              "       'San Marino', 'Sao Tome and Principe', 'Saudi Arabia', 'Senegal',\n",
              "       'Serbia', 'Seychelles', 'Sierra Leone', 'Singapore', 'Slovakia',\n",
              "       'Slovenia', 'Solomon Islands', 'Somalia', 'South Africa',\n",
              "       'Republic of Korea', 'South Sudan', 'Spain', 'Sri Lanka', 'Sudan',\n",
              "       'Suriname', 'Sweden', 'Switzerland', 'Syrian Arab Republic',\n",
              "       'Tajikistan', 'United Republic of Tanzania', 'Thailand', 'Togo',\n",
              "       'Tokelau', 'Tonga', 'Trinidad and Tobago', 'Tunisia', 'Turkey',\n",
              "       'Turkmenistan', 'Turks and Caicos Islands', 'Tuvalu', 'Uganda',\n",
              "       'Ukraine', 'United Arab Emirates', 'The United Kingdom',\n",
              "       'United States of America', 'Uruguay', 'Uzbekistan', 'Vanuatu',\n",
              "       'Venezuela (Bolivarian Republic of)', 'Viet Nam',\n",
              "       'Wallis and Futuna', 'Yemen', 'Zambia', 'Zimbabwe'], dtype=object)"
            ]
          },
          "metadata": {},
          "execution_count": 12
        }
      ],
      "source": [
        "df.country.unique()"
      ]
    },
    {
      "cell_type": "code",
      "execution_count": 13,
      "metadata": {
        "id": "Ne12yeDGa-La"
      },
      "outputs": [],
      "source": [
        "def f_1(row):\n",
        "    row.population = row.population.replace(',','')\n",
        "    return row\n",
        "df=df.apply(f_1, axis=1)\n",
        "df.population = df.population.astype(\"float64\")\n",
        "df.people_vaccinated = df.people_vaccinated.astype(\"float64\")"
      ]
    },
    {
      "cell_type": "code",
      "execution_count": 14,
      "metadata": {
        "id": "5OB_5T9pacIt"
      },
      "outputs": [],
      "source": [
        "df = df.assign(ratio=[0]*len(df))\n",
        "def f_2(row):\n",
        "    row.ratio = row.people_fully_vaccinated / row.population * 100 \n",
        "    return row\n",
        "df=df.apply(f_2, axis=1)"
      ]
    },
    {
      "cell_type": "code",
      "execution_count": 15,
      "metadata": {
        "colab": {
          "base_uri": "https://localhost:8080/",
          "height": 332
        },
        "id": "vaHE95aMam56",
        "outputId": "0be2bc9e-5744-479e-9b68-4ffa109fe18b"
      },
      "outputs": [
        {
          "output_type": "stream",
          "name": "stdout",
          "text": [
            "\n",
            "\n"
          ]
        },
        {
          "output_type": "display_data",
          "data": {
            "image/png": "[encoded data removed]",
            "text/plain": [
              "<Figure size 432x288 with 1 Axes>"
            ]
          },
          "metadata": {
            "needs_background": "light"
          }
        }
      ],
      "source": [
        "mydf= df\n",
        "mydf = mydf[mydf.country == \"Indonesia\"]\n",
        "plt.scatter(mydf.ratio, mydf.New_deaths , color='red')\n",
        "print(\"\\n\")\n",
        "plt.title('Rasio Vaksinasi vs Kasus Kematian Baru')\n",
        "plt.xlabel(\"Persentase Vaksinasi (%) \")\n",
        "plt.ylabel(\"Kematian\")\n",
        "plt.show()"
      ]
    },
    {
      "cell_type": "code",
      "execution_count": 16,
      "metadata": {
        "colab": {
          "base_uri": "https://localhost:8080/"
        },
        "id": "KrCT___yatU8",
        "outputId": "d02c1a08-0963-440d-8fff-a3761b017c82"
      },
      "outputs": [
        {
          "output_type": "stream",
          "name": "stdout",
          "text": [
            "Coefficients:  [[-10.76725582]]\n",
            "Intercept:  [506.98763596]\n"
          ]
        }
      ],
      "source": [
        "from sklearn import linear_model\n",
        "regr = linear_model.LinearRegression()\n",
        "train_x = np.asanyarray(mydf[['ratio']])\n",
        "train_y = np.asanyarray(mydf[['New_deaths']])\n",
        "regr.fit (train_x, train_y)\n",
        "# Coefficients dan Intercept\n",
        "print ('Coefficients: ', regr.coef_)\n",
        "print ('Intercept: ',regr.intercept_)"
      ]
    },
    {
      "cell_type": "code",
      "execution_count": 17,
      "metadata": {
        "colab": {
          "base_uri": "https://localhost:8080/",
          "height": 279
        },
        "id": "Ng6lBMDjaygP",
        "outputId": "0138fdfc-b5dc-40bf-dc90-0457ce7dc18a"
      },
      "outputs": [
        {
          "output_type": "display_data",
          "data": {
            "image/png": "[encoded data removed]",
            "text/plain": [
              "<Figure size 432x288 with 1 Axes>"
            ]
          },
          "metadata": {
            "needs_background": "light"
          }
        }
      ],
      "source": [
        "plt.scatter(mydf.ratio, mydf.New_deaths,  color='green')\n",
        "plt.plot(train_x, regr.coef_[0][0]*train_x + regr.intercept_[0], color='blue')\n",
        "plt.xlabel(\"Vaccination rate (%) \")\n",
        "plt.ylabel(\"New deaths\")\n",
        "plt.show()"
      ]
    },
    {
      "cell_type": "code",
      "execution_count": 31,
      "metadata": {
        "colab": {
          "base_uri": "https://localhost:8080/",
          "height": 460
        },
        "id": "7h5kgYQja3Np",
        "outputId": "0d321f0a-bf78-4107-a629-d7e9ef8c1346"
      },
      "outputs": [
        {
          "output_type": "stream",
          "name": "stdout",
          "text": [
            "Coefficients:  [[-10.76725582]]\n",
            "Intercept:  [506.98763596]\n",
            "\n",
            "\n"
          ]
        },
        {
          "output_type": "display_data",
          "data": {
            "image/png": "[encoded data removed]",
            "text/plain": [
              "<Figure size 432x288 with 1 Axes>"
            ]
          },
          "metadata": {
            "needs_background": "light"
          }
        },
        {
          "output_type": "stream",
          "name": "stdout",
          "text": [
            "\n",
            "\n",
            "Mean absolute error: 361.70\n",
            "Residual sum of squares (MSE): 227099.17\n",
            "R2-score: 0.05\n"
          ]
        }
      ],
      "source": [
        "from sklearn.metrics import r2_score\n",
        "\n",
        "mydf = df[df.country == \"Indonesia\"]\n",
        "\n",
        "regr = linear_model.LinearRegression()\n",
        "train_x = np.asanyarray(mydf[['ratio']])\n",
        "train_y = np.asanyarray(mydf[['New_deaths']])\n",
        "regr.fit (train_x, train_y)\n",
        "\n",
        "\n",
        "print ('Coefficients: ', regr.coef_)\n",
        "print ('Intercept: ',regr.intercept_)\n",
        "print ('\\n')\n",
        "\n",
        "plt.scatter(mydf.ratio, mydf.New_deaths,  color='red')\n",
        "plt.plot(train_x, regr.coef_[0][0]*train_x + regr.intercept_[0], color='blue')\n",
        "plt.title('Rasio Vaksinasi vs Kasus Kematian Baru')\n",
        "plt.xlabel(\"Persentase Vaksinasi (%) \")\n",
        "plt.ylabel(\"Kematian\")\n",
        "plt.show()\n",
        "\n",
        "test_x = np.asanyarray(mydf[['ratio']])\n",
        "test_y = np.asanyarray(mydf[['New_deaths']])\n",
        "test_y_ = regr.predict(test_x)\n",
        "\n",
        "print ('\\n')\n",
        "print(\"Mean absolute error: %.2f\" % np.mean(np.absolute(test_y_ - test_y)))\n",
        "print(\"Residual sum of squares (MSE): %.2f\" % np.mean((test_y_ - test_y) ** 2))\n",
        "print(\"R2-score: %.2f\" % r2_score(test_y , test_y_) )"
      ]
    }
  ],
  "metadata": {
    "colab": {
      "collapsed_sections": [],
      "name": "AVDPaper.ipynb",
      "provenance": []
    },
    "kernelspec": {
      "display_name": "Python 3",
      "name": "python3"
    },
    "language_info": {
      "name": "python"
    }
  },
  "nbformat": 4,
  "nbformat_minor": 0
}